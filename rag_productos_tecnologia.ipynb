{
  "nbformat": 4,
  "nbformat_minor": 0,
  "metadata": {
    "colab": {
      "provenance": [],
      "authorship_tag": "ABX9TyMAOg5+xPuVsUTMA9wnbdLE",
      "include_colab_link": true
    },
    "kernelspec": {
      "name": "python3",
      "display_name": "Python 3"
    },
    "language_info": {
      "name": "python"
    }
  },
  "cells": [
    {
      "cell_type": "markdown",
      "metadata": {
        "id": "view-in-github",
        "colab_type": "text"
      },
      "source": [
        "<a href=\"https://colab.research.google.com/github/stefymojica/sample-rag-llm/blob/main/rag_productos_tecnologia.ipynb\" target=\"_parent\"><img src=\"https://colab.research.google.com/assets/colab-badge.svg\" alt=\"Open In Colab\"/></a>"
      ]
    },
    {
      "cell_type": "markdown",
      "source": [
        "**Modelo RAG con productos de tecnologia**"
      ],
      "metadata": {
        "id": "OJAazV-IBX9C"
      }
    },
    {
      "cell_type": "code",
      "execution_count": 1,
      "metadata": {
        "colab": {
          "base_uri": "https://localhost:8080/"
        },
        "id": "bmuLG6Oeu3Oq",
        "outputId": "4cd9e8d4-3cf9-4b1e-f4d5-17945105fdd7"
      },
      "outputs": [
        {
          "output_type": "stream",
          "name": "stdout",
          "text": [
            "Requirement already satisfied: sentence-transformers in /usr/local/lib/python3.10/dist-packages (3.2.1)\n",
            "Requirement already satisfied: pandas in /usr/local/lib/python3.10/dist-packages (2.2.2)\n",
            "Requirement already satisfied: scikit-learn in /usr/local/lib/python3.10/dist-packages (1.5.2)\n",
            "Requirement already satisfied: transformers<5.0.0,>=4.41.0 in /usr/local/lib/python3.10/dist-packages (from sentence-transformers) (4.44.2)\n",
            "Requirement already satisfied: tqdm in /usr/local/lib/python3.10/dist-packages (from sentence-transformers) (4.66.5)\n",
            "Requirement already satisfied: torch>=1.11.0 in /usr/local/lib/python3.10/dist-packages (from sentence-transformers) (2.5.0+cu121)\n",
            "Requirement already satisfied: scipy in /usr/local/lib/python3.10/dist-packages (from sentence-transformers) (1.13.1)\n",
            "Requirement already satisfied: huggingface-hub>=0.20.0 in /usr/local/lib/python3.10/dist-packages (from sentence-transformers) (0.24.7)\n",
            "Requirement already satisfied: Pillow in /usr/local/lib/python3.10/dist-packages (from sentence-transformers) (10.4.0)\n",
            "Requirement already satisfied: numpy>=1.22.4 in /usr/local/lib/python3.10/dist-packages (from pandas) (1.26.4)\n",
            "Requirement already satisfied: python-dateutil>=2.8.2 in /usr/local/lib/python3.10/dist-packages (from pandas) (2.8.2)\n",
            "Requirement already satisfied: pytz>=2020.1 in /usr/local/lib/python3.10/dist-packages (from pandas) (2024.2)\n",
            "Requirement already satisfied: tzdata>=2022.7 in /usr/local/lib/python3.10/dist-packages (from pandas) (2024.2)\n",
            "Requirement already satisfied: joblib>=1.2.0 in /usr/local/lib/python3.10/dist-packages (from scikit-learn) (1.4.2)\n",
            "Requirement already satisfied: threadpoolctl>=3.1.0 in /usr/local/lib/python3.10/dist-packages (from scikit-learn) (3.5.0)\n",
            "Requirement already satisfied: filelock in /usr/local/lib/python3.10/dist-packages (from huggingface-hub>=0.20.0->sentence-transformers) (3.16.1)\n",
            "Requirement already satisfied: fsspec>=2023.5.0 in /usr/local/lib/python3.10/dist-packages (from huggingface-hub>=0.20.0->sentence-transformers) (2024.6.1)\n",
            "Requirement already satisfied: packaging>=20.9 in /usr/local/lib/python3.10/dist-packages (from huggingface-hub>=0.20.0->sentence-transformers) (24.1)\n",
            "Requirement already satisfied: pyyaml>=5.1 in /usr/local/lib/python3.10/dist-packages (from huggingface-hub>=0.20.0->sentence-transformers) (6.0.2)\n",
            "Requirement already satisfied: requests in /usr/local/lib/python3.10/dist-packages (from huggingface-hub>=0.20.0->sentence-transformers) (2.32.3)\n",
            "Requirement already satisfied: typing-extensions>=3.7.4.3 in /usr/local/lib/python3.10/dist-packages (from huggingface-hub>=0.20.0->sentence-transformers) (4.12.2)\n",
            "Requirement already satisfied: six>=1.5 in /usr/local/lib/python3.10/dist-packages (from python-dateutil>=2.8.2->pandas) (1.16.0)\n",
            "Requirement already satisfied: networkx in /usr/local/lib/python3.10/dist-packages (from torch>=1.11.0->sentence-transformers) (3.4.2)\n",
            "Requirement already satisfied: jinja2 in /usr/local/lib/python3.10/dist-packages (from torch>=1.11.0->sentence-transformers) (3.1.4)\n",
            "Requirement already satisfied: sympy==1.13.1 in /usr/local/lib/python3.10/dist-packages (from torch>=1.11.0->sentence-transformers) (1.13.1)\n",
            "Requirement already satisfied: mpmath<1.4,>=1.1.0 in /usr/local/lib/python3.10/dist-packages (from sympy==1.13.1->torch>=1.11.0->sentence-transformers) (1.3.0)\n",
            "Requirement already satisfied: regex!=2019.12.17 in /usr/local/lib/python3.10/dist-packages (from transformers<5.0.0,>=4.41.0->sentence-transformers) (2024.9.11)\n",
            "Requirement already satisfied: safetensors>=0.4.1 in /usr/local/lib/python3.10/dist-packages (from transformers<5.0.0,>=4.41.0->sentence-transformers) (0.4.5)\n",
            "Requirement already satisfied: tokenizers<0.20,>=0.19 in /usr/local/lib/python3.10/dist-packages (from transformers<5.0.0,>=4.41.0->sentence-transformers) (0.19.1)\n",
            "Requirement already satisfied: MarkupSafe>=2.0 in /usr/local/lib/python3.10/dist-packages (from jinja2->torch>=1.11.0->sentence-transformers) (3.0.2)\n",
            "Requirement already satisfied: charset-normalizer<4,>=2 in /usr/local/lib/python3.10/dist-packages (from requests->huggingface-hub>=0.20.0->sentence-transformers) (3.4.0)\n",
            "Requirement already satisfied: idna<4,>=2.5 in /usr/local/lib/python3.10/dist-packages (from requests->huggingface-hub>=0.20.0->sentence-transformers) (3.10)\n",
            "Requirement already satisfied: urllib3<3,>=1.21.1 in /usr/local/lib/python3.10/dist-packages (from requests->huggingface-hub>=0.20.0->sentence-transformers) (2.2.3)\n",
            "Requirement already satisfied: certifi>=2017.4.17 in /usr/local/lib/python3.10/dist-packages (from requests->huggingface-hub>=0.20.0->sentence-transformers) (2024.8.30)\n"
          ]
        }
      ],
      "source": [
        "pip install sentence-transformers pandas scikit-learn\n"
      ]
    },
    {
      "cell_type": "code",
      "source": [
        "from sentence_transformers import SentenceTransformer\n",
        "import pandas as pd\n",
        "from sklearn.metrics.pairwise import cosine_similarity\n",
        "import numpy as np"
      ],
      "metadata": {
        "id": "YetgddbsxQJ2"
      },
      "execution_count": 21,
      "outputs": []
    },
    {
      "cell_type": "code",
      "source": [
        "class SimpleRag:\n",
        "  def __init__(self, model_name='all-MiniLM-L6-v2'):\n",
        "    self.model = SentenceTransformer(model_name)\n",
        "    self.documents = []\n",
        "    self.embeddings = None\n",
        "\n",
        "  def add_documents(self, documents):\n",
        "    self.documents.extend(documents)\n",
        "    self.embeddings = self.model.encode(self.documents)\n",
        "\n",
        "  def query(self,question,k=2):\n",
        "    question_embedding = self.model.encode(question)\n",
        "    similarities = cosine_similarity([question_embedding],self.embeddings)[0]\n",
        "    top_k_indices = np.argsort(similarities)[-k:][::-1]\n",
        "    result = []\n",
        "    for i in top_k_indices:\n",
        "      result.append({'document':self.documents[i], 'score':similarities[i]})\n",
        "    return result"
      ],
      "metadata": {
        "id": "1WYKMa0zIiUO"
      },
      "execution_count": 37,
      "outputs": []
    },
    {
      "cell_type": "code",
      "source": [
        "def main():\n",
        "  documents = [\n",
        "      \"iPhone 14 Pro: Smartphone de última generación con pantalla de 6.1 pulgadas, cámara de 48MP y chip A16 Bionic. Precio: $999\",\n",
        "      \"Samsung Galaxy S23: Teléfono Android con pantalla AMOLED de 6.1 pulgadas, cámara de 50MP y procesador Snapdragon 8. Precio: $799\",\n",
        "      \"MacBook Air M2: Laptop ultradelgada con chip M2, 8GB RAM, 256GB SSD y pantalla Retina de 13.6 pulgadas. Precio: $1199\",\n",
        "      \"Sony WH-1000XM5: Auriculares inalámbricos con cancelación de ruido, 30 horas de batería y audio de alta resolución. Precio: $399\",\n",
        "      \"Nintendo Switch OLED: Consola de videojuegos con pantalla OLED de 7 pulgadas, 64GB de almacenamiento y modo portátil. Precio: $349\",\n",
        "      \"iPad Air 2022: Tablet con chip M1, pantalla de 10.9 pulgadas, compatible con Apple Pencil y Magic Keyboard. Precio: $599\",\n",
        "      \"Dell XPS 15: Laptop para profesionales con Intel i7, 16GB RAM, 512GB SSD y pantalla 4K de 15.6 pulgadas. Precio: $1799\",\n",
        "      \"AirPods Pro 2: Auriculares TWS con cancelación activa de ruido, audio espacial y resistencia al agua IPX4. Precio: $249\",\n",
        "      \"PlayStation 5: Consola de nueva generación con SSD ultrarrápido, ray tracing y control DualSense. Precio: $499\",\n",
        "      \"Samsung QN90B: Smart TV QLED 4K de 65 pulgadas con tasa de refresco de 120Hz y HDR. Precio: $1999\"\n",
        "  ]\n",
        "  rag = SimpleRag()\n",
        "  rag.add_documents(documents)\n",
        "  question = \"que es samsung\"\n",
        "  result = rag.query(question)\n",
        "  print(result)\n",
        "if __name__ == \"__main__\":\n",
        "    main()"
      ],
      "metadata": {
        "colab": {
          "base_uri": "https://localhost:8080/"
        },
        "id": "fRXAkobDjbqK",
        "outputId": "0bcebee7-a3b8-4198-e276-4c0c203d7c41"
      },
      "execution_count": 39,
      "outputs": [
        {
          "output_type": "stream",
          "name": "stderr",
          "text": [
            "/usr/local/lib/python3.10/dist-packages/transformers/tokenization_utils_base.py:1601: FutureWarning: `clean_up_tokenization_spaces` was not set. It will be set to `True` by default. This behavior will be depracted in transformers v4.45, and will be then set to `False` by default. For more details check this issue: https://github.com/huggingface/transformers/issues/31884\n",
            "  warnings.warn(\n"
          ]
        },
        {
          "output_type": "stream",
          "name": "stdout",
          "text": [
            "[{'document': 'Samsung Galaxy S23: Teléfono Android con pantalla AMOLED de 6.1 pulgadas, cámara de 50MP y procesador Snapdragon 8. Precio: $799', 'score': 0.53826505}, {'document': 'Samsung QN90B: Smart TV QLED 4K de 65 pulgadas con tasa de refresco de 120Hz y HDR. Precio: $1999', 'score': 0.47023332}]\n"
          ]
        }
      ]
    },
    {
      "cell_type": "code",
      "source": [],
      "metadata": {
        "id": "Sj9eqxmIkvb5"
      },
      "execution_count": null,
      "outputs": []
    }
  ]
}